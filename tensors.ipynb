{
 "cells": [
  {
   "cell_type": "code",
   "execution_count": 2,
   "metadata": {},
   "outputs": [
    {
     "name": "stderr",
     "output_type": "stream",
     "text": [
      "2023-07-12 21:04:01.731387: I tensorflow/core/platform/cpu_feature_guard.cc:182] This TensorFlow binary is optimized to use available CPU instructions in performance-critical operations.\n",
      "To enable the following instructions: AVX2 FMA, in other operations, rebuild TensorFlow with the appropriate compiler flags.\n",
      "2023-07-12 21:04:02.537747: W tensorflow/compiler/tf2tensorrt/utils/py_utils.cc:38] TF-TRT Warning: Could not find TensorRT\n"
     ]
    }
   ],
   "source": [
    "import numpy as np\n",
    "import tensorflow as tf"
   ]
  },
  {
   "attachments": {},
   "cell_type": "markdown",
   "metadata": {},
   "source": [
    "## tensors dim"
   ]
  },
  {
   "cell_type": "code",
   "execution_count": 2,
   "metadata": {},
   "outputs": [
    {
     "name": "stdout",
     "output_type": "stream",
     "text": [
      "tf.Tensor(4, shape=(), dtype=int32)\n"
     ]
    }
   ],
   "source": [
    "tensor_zero_d = tf.constant(4)\n",
    "print(tensor_zero_d)"
   ]
  },
  {
   "cell_type": "code",
   "execution_count": 3,
   "metadata": {},
   "outputs": [
    {
     "name": "stdout",
     "output_type": "stream",
     "text": [
      "tf.Tensor([2 1 4], shape=(3,), dtype=int32)\n"
     ]
    }
   ],
   "source": [
    "tensor_one_d = tf.constant([2,1,4])\n",
    "print(tensor_one_d)"
   ]
  },
  {
   "cell_type": "code",
   "execution_count": 4,
   "metadata": {},
   "outputs": [
    {
     "name": "stdout",
     "output_type": "stream",
     "text": [
      "tf.Tensor(\n",
      "[[2 1 4]\n",
      " [0 2 1]], shape=(2, 3), dtype=int32)\n"
     ]
    }
   ],
   "source": [
    "tensor_two_d = tf.constant([[2,1,4], [0,2,1]])\n",
    "print(tensor_two_d)"
   ]
  },
  {
   "cell_type": "code",
   "execution_count": 7,
   "metadata": {},
   "outputs": [
    {
     "name": "stdout",
     "output_type": "stream",
     "text": [
      "tf.Tensor(\n",
      "[[[2 1 4]\n",
      "  [0 2 1]]\n",
      "\n",
      " [[4 7 9]\n",
      "  [9 1 3]]], shape=(2, 2, 3), dtype=int32)\n"
     ]
    }
   ],
   "source": [
    "tensor_three_d = tf.constant([\n",
    "    [[2,1,4], [0,2,1]],\n",
    "    [[4,7,9], [9,1,3]],\n",
    "])\n",
    "print(tensor_three_d)\n"
   ]
  },
  {
   "attachments": {},
   "cell_type": "markdown",
   "metadata": {},
   "source": [
    "# operations"
   ]
  },
  {
   "attachments": {},
   "cell_type": "markdown",
   "metadata": {},
   "source": [
    "## methods"
   ]
  },
  {
   "cell_type": "code",
   "execution_count": 12,
   "metadata": {},
   "outputs": [
    {
     "name": "stdout",
     "output_type": "stream",
     "text": [
      "tf.Tensor([2. 1. 4.], shape=(3,), dtype=float64)\n",
      "tf.Tensor([2 1 4], shape=(3,), dtype=int32)\n"
     ]
    }
   ],
   "source": [
    "# new type\n",
    "tensor_one_d = tf.constant([2.0,1,4], dtype=tf.float64)\n",
    "print(tensor_one_d)\n",
    "\n",
    "casted_tensor_one_d = tf.cast(tensor_one_d, tf.int32)\n",
    "print(casted_tensor_one_d)"
   ]
  },
  {
   "cell_type": "code",
   "execution_count": 39,
   "metadata": {},
   "outputs": [
    {
     "name": "stdout",
     "output_type": "stream",
     "text": [
      "tf.Tensor([1 2 3 4 5], shape=(5,), dtype=int64)\n"
     ]
    }
   ],
   "source": [
    "# np -> tf\n",
    "np_array = np.array([1,2,3,4,5])\n",
    "converted_tensor = tf.convert_to_tensor(np_array)\n",
    "print(converted_tensor)"
   ]
  },
  {
   "attachments": {},
   "cell_type": "markdown",
   "metadata": {},
   "source": [
    "## eye"
   ]
  },
  {
   "cell_type": "code",
   "execution_count": 17,
   "metadata": {},
   "outputs": [
    {
     "name": "stdout",
     "output_type": "stream",
     "text": [
      "tf.Tensor(\n",
      "[[3. 0. 0.]\n",
      " [0. 3. 0.]\n",
      " [0. 0. 3.]], shape=(3, 3), dtype=float32)\n"
     ]
    }
   ],
   "source": [
    "eye_tensor = tf.eye(\n",
    "    num_rows=3,\n",
    "    num_columns=None,\n",
    "    batch_shape=None,\n",
    "    dtype=tf.float32,\n",
    "    name=None \n",
    ")\n",
    "print(3* eye_tensor)"
   ]
  },
  {
   "cell_type": "code",
   "execution_count": 22,
   "metadata": {},
   "outputs": [
    {
     "name": "stdout",
     "output_type": "stream",
     "text": [
      "tf.Tensor(\n",
      "[[ True False False]\n",
      " [False  True False]\n",
      " [False False  True]], shape=(3, 3), dtype=bool)\n"
     ]
    }
   ],
   "source": [
    "eye_tensor = tf.eye(\n",
    "    num_rows=3,\n",
    "    num_columns=None,\n",
    "    batch_shape=None,\n",
    "    dtype=tf.dtypes.bool,\n",
    "    name=None \n",
    ")\n",
    "print(eye_tensor)"
   ]
  },
  {
   "cell_type": "code",
   "execution_count": 25,
   "metadata": {},
   "outputs": [
    {
     "name": "stdout",
     "output_type": "stream",
     "text": [
      "tf.Tensor(\n",
      "[[1 0 0 0 0]\n",
      " [0 1 0 0 0]\n",
      " [0 0 1 0 0]], shape=(3, 5), dtype=int32)\n"
     ]
    }
   ],
   "source": [
    "eye_tensor = tf.eye(\n",
    "    num_rows=3,\n",
    "    num_columns=5,\n",
    "    batch_shape=None,\n",
    "    dtype=tf.int32,\n",
    "    name=None \n",
    ")\n",
    "print(eye_tensor)"
   ]
  },
  {
   "cell_type": "code",
   "execution_count": 37,
   "metadata": {},
   "outputs": [
    {
     "name": "stdout",
     "output_type": "stream",
     "text": [
      "tf.Tensor(\n",
      "[[[1 0 0 0 0]\n",
      "  [0 1 0 0 0]\n",
      "  [0 0 1 0 0]\n",
      "  [0 0 0 1 0]\n",
      "  [0 0 0 0 1]]\n",
      "\n",
      " [[1 0 0 0 0]\n",
      "  [0 1 0 0 0]\n",
      "  [0 0 1 0 0]\n",
      "  [0 0 0 1 0]\n",
      "  [0 0 0 0 1]]], shape=(2, 5, 5), dtype=int32)\n"
     ]
    }
   ],
   "source": [
    "eye_tensor = tf.eye(\n",
    "    num_rows=5,\n",
    "    num_columns=5,\n",
    "    batch_shape=[2,],\n",
    "    dtype=tf.int32,\n",
    "    name=None \n",
    ")\n",
    "print(eye_tensor)"
   ]
  },
  {
   "attachments": {},
   "cell_type": "markdown",
   "metadata": {},
   "source": [
    "## fill"
   ]
  },
  {
   "cell_type": "code",
   "execution_count": 35,
   "metadata": {},
   "outputs": [
    {
     "data": {
      "text/plain": [
       "<tf.Tensor: shape=(3, 4), dtype=int32, numpy=\n",
       "array([[8, 8, 8, 8],\n",
       "       [8, 8, 8, 8],\n",
       "       [8, 8, 8, 8]], dtype=int32)>"
      ]
     },
     "execution_count": 35,
     "metadata": {},
     "output_type": "execute_result"
    }
   ],
   "source": [
    "tf.fill([3,4], 8)"
   ]
  },
  {
   "attachments": {},
   "cell_type": "markdown",
   "metadata": {},
   "source": [
    "## ones like"
   ]
  },
  {
   "cell_type": "code",
   "execution_count": 42,
   "metadata": {},
   "outputs": [
    {
     "data": {
      "text/plain": [
       "<tf.Tensor: shape=(2, 3), dtype=int32, numpy=\n",
       "array([[1, 1, 1],\n",
       "       [1, 1, 1]], dtype=int32)>"
      ]
     },
     "execution_count": 42,
     "metadata": {},
     "output_type": "execute_result"
    }
   ],
   "source": [
    "tf.ones_like(tensor_two_d)"
   ]
  },
  {
   "attachments": {},
   "cell_type": "markdown",
   "metadata": {},
   "source": [
    "## shape vs size\n"
   ]
  },
  {
   "cell_type": "code",
   "execution_count": 47,
   "metadata": {},
   "outputs": [
    {
     "data": {
      "text/plain": [
       "array([2, 3], dtype=int32)"
      ]
     },
     "execution_count": 47,
     "metadata": {},
     "output_type": "execute_result"
    }
   ],
   "source": [
    "tf.shape(tensor_two_d).numpy()"
   ]
  },
  {
   "cell_type": "code",
   "execution_count": 50,
   "metadata": {},
   "outputs": [
    {
     "data": {
      "text/plain": [
       "<tf.Tensor: shape=(), dtype=int32, numpy=6>"
      ]
     },
     "execution_count": 50,
     "metadata": {},
     "output_type": "execute_result"
    }
   ],
   "source": [
    "tf.size(tensor_two_d)"
   ]
  },
  {
   "attachments": {},
   "cell_type": "markdown",
   "metadata": {},
   "source": [
    "## random"
   ]
  },
  {
   "cell_type": "code",
   "execution_count": 53,
   "metadata": {},
   "outputs": [
    {
     "name": "stdout",
     "output_type": "stream",
     "text": [
      "tf.Tensor(\n",
      "[[105.400734 103.13779 ]\n",
      " [ 92.22952  100.28277 ]\n",
      " [ 95.20222  101.531815]], shape=(3, 2), dtype=float32)\n"
     ]
    }
   ],
   "source": [
    "random_tensor = tf.random.normal(\n",
    "    [3,2],\n",
    "    mean=100.0,\n",
    "    stddev=5.0,\n",
    "    dtype=tf.dtypes.float32,\n",
    "    seed=None,\n",
    "    name=None\n",
    ")\n",
    "print(random_tensor)"
   ]
  },
  {
   "cell_type": "code",
   "execution_count": 6,
   "metadata": {},
   "outputs": [
    {
     "name": "stdout",
     "output_type": "stream",
     "text": [
      "tf.Tensor([3.4997244 5.540951  6.166817  3.434012  6.8423743], shape=(5,), dtype=float32)\n"
     ]
    }
   ],
   "source": [
    "random_tensor = tf.random.uniform(\n",
    "    shape=[5,], \n",
    "    minval=8, \n",
    "    maxval=None, \n",
    "    dtype=tf.float32\n",
    ")\n",
    "\n",
    "print(random_tensor)"
   ]
  },
  {
   "attachments": {},
   "cell_type": "markdown",
   "metadata": {},
   "source": [
    "## math"
   ]
  },
  {
   "cell_type": "code",
   "execution_count": 11,
   "metadata": {},
   "outputs": [
    {
     "data": {
      "text/plain": [
       "<tf.Tensor: shape=(2,), dtype=float32, numpy=array([2.25, 2.  ], dtype=float32)>"
      ]
     },
     "execution_count": 11,
     "metadata": {},
     "output_type": "execute_result"
    }
   ],
   "source": [
    "x_abs = tf.constant([-2.25, 2])\n",
    "tf.abs(x_abs)"
   ]
  },
  {
   "cell_type": "code",
   "execution_count": 14,
   "metadata": {},
   "outputs": [
    {
     "data": {
      "text/plain": [
       "<tf.Tensor: shape=(), dtype=float32, numpy=33.511192>"
      ]
     },
     "execution_count": 14,
     "metadata": {},
     "output_type": "execute_result"
    }
   ],
   "source": [
    "tf.sqrt(1123.0)"
   ]
  },
  {
   "cell_type": "code",
   "execution_count": 2,
   "metadata": {},
   "outputs": [
    {
     "data": {
      "text/plain": [
       "<tf.Tensor: shape=(3,), dtype=float64, numpy=array([1., 2., 3.])>"
      ]
     },
     "execution_count": 2,
     "metadata": {},
     "output_type": "execute_result"
    }
   ],
   "source": [
    "a1 = tf.constant([1, 4, 9])\n",
    "a2 = tf.constant([1, 2, 3])\n",
    "\n",
    "tf.divide(a1, a2)"
   ]
  },
  {
   "cell_type": "code",
   "execution_count": 6,
   "metadata": {},
   "outputs": [
    {
     "data": {
      "text/plain": [
       "<tf.Tensor: shape=(3,), dtype=int64, numpy=array([2, 2, 1])>"
      ]
     },
     "execution_count": 6,
     "metadata": {},
     "output_type": "execute_result"
    }
   ],
   "source": [
    "x_argmax = tf.constant(\n",
    "    [[2, 20, 30, 3, 8],\n",
    "     [3, 11, 18, 1, 8],\n",
    "     [14, 45, 23, 5, 27]]\n",
    ")\n",
    "\n",
    "tf.math.argmax(x_argmax, axis=1)"
   ]
  },
  {
   "cell_type": "code",
   "execution_count": 4,
   "metadata": {},
   "outputs": [
    {
     "data": {
      "text/plain": [
       "<tf.Tensor: shape=(3,), dtype=int32, numpy=array([ 63,  41, 114], dtype=int32)>"
      ]
     },
     "execution_count": 4,
     "metadata": {},
     "output_type": "execute_result"
    }
   ],
   "source": [
    "tensor_2d = tf.constant(\n",
    "    [[2, 20, 30, 3, 8],\n",
    "     [3, 11, 18, 1, 8],\n",
    "     [14, 45, 23, 5, 27]]\n",
    ")\n",
    "\n",
    "tf.math.reduce_sum(tensor_2d, axis=1, keepdims=False)"
   ]
  },
  {
   "cell_type": "code",
   "execution_count": 5,
   "metadata": {},
   "outputs": [
    {
     "data": {
      "text/plain": [
       "TopKV2(values=<tf.Tensor: shape=(3, 2), dtype=int32, numpy=\n",
       "array([[30, 20],\n",
       "       [18, 11],\n",
       "       [45, 27]], dtype=int32)>, indices=<tf.Tensor: shape=(3, 2), dtype=int32, numpy=\n",
       "array([[2, 1],\n",
       "       [2, 1],\n",
       "       [1, 4]], dtype=int32)>)"
      ]
     },
     "execution_count": 5,
     "metadata": {},
     "output_type": "execute_result"
    }
   ],
   "source": [
    "tf.math.top_k(tensor_2d, k=2)"
   ]
  },
  {
   "attachments": {},
   "cell_type": "markdown",
   "metadata": {},
   "source": [
    "## band_part"
   ]
  },
  {
   "cell_type": "code",
   "execution_count": 12,
   "metadata": {},
   "outputs": [
    {
     "name": "stdout",
     "output_type": "stream",
     "text": [
      "tf.Tensor(\n",
      "[[1 0 0]\n",
      " [0 5 0]\n",
      " [0 0 8]], shape=(3, 3), dtype=int32)\n",
      "tf.Tensor(\n",
      "[[1 0 0]\n",
      " [1 5 0]\n",
      " [2 3 8]], shape=(3, 3), dtype=int32)\n",
      "tf.Tensor(\n",
      "[[ 1 -2  0]\n",
      " [ 0  5  6]\n",
      " [ 0  0  8]], shape=(3, 3), dtype=int32)\n"
     ]
    }
   ],
   "source": [
    "tensor_2d = tf.constant(\n",
    "    [[1, -2, 0],\n",
    "     [1, 5, 6],\n",
    "     [2, 3, 8]]\n",
    ")\n",
    "\n",
    "print(tf.linalg.band_part(tensor_2d, 0, 0)) # keep the main diagonal\n",
    "print(tf.linalg.band_part(tensor_2d, -1, 0)) # keep the lower triangular \n",
    "print(tf.linalg.band_part(tensor_2d, 0, -1)) # keep the upper triangular "
   ]
  },
  {
   "attachments": {},
   "cell_type": "markdown",
   "metadata": {},
   "source": [
    "## inversion"
   ]
  },
  {
   "cell_type": "code",
   "execution_count": 15,
   "metadata": {},
   "outputs": [
    {
     "data": {
      "text/plain": [
       "<tf.Tensor: shape=(3, 3), dtype=float32, numpy=\n",
       "array([[ 1.5714285 ,  1.1428571 , -0.8571428 ],\n",
       "       [ 0.2857143 ,  0.5714286 , -0.42857146],\n",
       "       [-0.5       , -0.5       ,  0.5       ]], dtype=float32)>"
      ]
     },
     "execution_count": 15,
     "metadata": {},
     "output_type": "execute_result"
    }
   ],
   "source": [
    "tensor_2d = tf.constant(\n",
    "    [[1, -2, 0],\n",
    "     [1, 5, 6],\n",
    "     [2, 3, 8]], dtype=tf.float32\n",
    ")\n",
    "\n",
    "tf.linalg.inv(tensor_2d)"
   ]
  },
  {
   "cell_type": "code",
   "execution_count": 17,
   "metadata": {},
   "outputs": [
    {
     "data": {
      "text/plain": [
       "<tf.Tensor: shape=(3, 3), dtype=float32, numpy=\n",
       "array([[ 1.0000000e+00, -1.1920929e-07,  0.0000000e+00],\n",
       "       [ 0.0000000e+00,  1.0000000e+00,  0.0000000e+00],\n",
       "       [ 0.0000000e+00,  0.0000000e+00,  1.0000000e+00]], dtype=float32)>"
      ]
     },
     "execution_count": 17,
     "metadata": {},
     "output_type": "execute_result"
    }
   ],
   "source": [
    "tf.linalg.inv(tensor_2d)@tensor_2d"
   ]
  },
  {
   "attachments": {},
   "cell_type": "markdown",
   "metadata": {},
   "source": [
    "## svd"
   ]
  },
  {
   "cell_type": "code",
   "execution_count": 2,
   "metadata": {},
   "outputs": [],
   "source": [
    "tensor_2d = tf.constant(\n",
    "    [[1, -2, 0],\n",
    "     [1, 5, 6],\n",
    "     [2, 3, 8]], dtype=tf.float32\n",
    ")\n",
    "\n",
    "s, u, v = tf.linalg.svd(tensor_2d)"
   ]
  },
  {
   "cell_type": "code",
   "execution_count": 4,
   "metadata": {},
   "outputs": [
    {
     "data": {
      "text/plain": [
       "<tf.Tensor: shape=(3,), dtype=float32, numpy=array([11.64254  ,  2.876895 ,  0.4179808], dtype=float32)>"
      ]
     },
     "execution_count": 4,
     "metadata": {},
     "output_type": "execute_result"
    }
   ],
   "source": [
    "s"
   ]
  },
  {
   "cell_type": "code",
   "execution_count": 5,
   "metadata": {},
   "outputs": [
    {
     "data": {
      "text/plain": [
       "<tf.Tensor: shape=(3, 3), dtype=float32, numpy=\n",
       "array([[-0.068646  , -0.7189183 ,  0.6916966 ],\n",
       "       [ 0.66535825,  0.48362345,  0.56868845],\n",
       "       [ 0.7433613 , -0.49926424, -0.44513935]], dtype=float32)>"
      ]
     },
     "execution_count": 5,
     "metadata": {},
     "output_type": "execute_result"
    }
   ],
   "source": [
    "u"
   ]
  },
  {
   "cell_type": "code",
   "execution_count": 6,
   "metadata": {},
   "outputs": [
    {
     "data": {
      "text/plain": [
       "<tf.Tensor: shape=(3, 3), dtype=float32, numpy=\n",
       "array([[ 0.17895022, -0.42887354,  0.8854628 ],\n",
       "       [ 0.4890828 ,  0.81968933,  0.2981735 ],\n",
       "       [ 0.853683  , -0.37970638, -0.35643822]], dtype=float32)>"
      ]
     },
     "execution_count": 6,
     "metadata": {},
     "output_type": "execute_result"
    }
   ],
   "source": [
    "v"
   ]
  },
  {
   "attachments": {},
   "cell_type": "markdown",
   "metadata": {},
   "source": [
    "## einsum"
   ]
  },
  {
   "cell_type": "code",
   "execution_count": 12,
   "metadata": {},
   "outputs": [],
   "source": [
    "A = np.array(\n",
    "    [[5, 4, 7, 5],\n",
    "    [0, 2, 1, 1],\n",
    "    [8, 5, 5, 1]]\n",
    ")\n",
    "B = np.array(\n",
    "    [[4, 0, 0, 1, 3],\n",
    "    [5, 0, 0, 0, 7],\n",
    "    [2, 5, 7, 9, 5],\n",
    "    [7, 0, 0, 7, 6]]\n",
    ")"
   ]
  },
  {
   "cell_type": "code",
   "execution_count": 14,
   "metadata": {},
   "outputs": [
    {
     "data": {
      "text/plain": [
       "array([[ 89,  35,  49, 103, 108],\n",
       "       [ 19,   5,   7,  16,  25],\n",
       "       [ 74,  25,  35,  60,  90]])"
      ]
     },
     "execution_count": 14,
     "metadata": {},
     "output_type": "execute_result"
    }
   ],
   "source": [
    "np.matmul(A,B)"
   ]
  },
  {
   "cell_type": "code",
   "execution_count": 16,
   "metadata": {},
   "outputs": [
    {
     "data": {
      "text/plain": [
       "array([[ 89,  35,  49, 103, 108],\n",
       "       [ 19,   5,   7,  16,  25],\n",
       "       [ 74,  25,  35,  60,  90]])"
      ]
     },
     "execution_count": 16,
     "metadata": {},
     "output_type": "execute_result"
    }
   ],
   "source": [
    "A@B"
   ]
  },
  {
   "cell_type": "code",
   "execution_count": 15,
   "metadata": {},
   "outputs": [
    {
     "data": {
      "text/plain": [
       "array([[ 89,  35,  49, 103, 108],\n",
       "       [ 19,   5,   7,  16,  25],\n",
       "       [ 74,  25,  35,  60,  90]])"
      ]
     },
     "execution_count": 15,
     "metadata": {},
     "output_type": "execute_result"
    }
   ],
   "source": [
    "np.einsum(\"ij,jk->ik\", A, B)"
   ]
  },
  {
   "cell_type": "code",
   "execution_count": 21,
   "metadata": {},
   "outputs": [
    {
     "name": "stdout",
     "output_type": "stream",
     "text": [
      "(3, 4) (3, 4)\n"
     ]
    }
   ],
   "source": [
    "C = np.array([\n",
    "    [4, 6, 0, 8],\n",
    "    [4, 7, 1, 1],\n",
    "    [4, 0, 4, 9]])\n",
    "\n",
    "print(A.shape, C.shape)"
   ]
  },
  {
   "cell_type": "code",
   "execution_count": 23,
   "metadata": {},
   "outputs": [
    {
     "data": {
      "text/plain": [
       "array([[20, 24,  0, 40],\n",
       "       [ 0, 14,  1,  1],\n",
       "       [32,  0, 20,  9]])"
      ]
     },
     "execution_count": 23,
     "metadata": {},
     "output_type": "execute_result"
    }
   ],
   "source": [
    "A*C"
   ]
  },
  {
   "cell_type": "code",
   "execution_count": 24,
   "metadata": {},
   "outputs": [
    {
     "data": {
      "text/plain": [
       "array([[20, 24,  0, 40],\n",
       "       [ 0, 14,  1,  1],\n",
       "       [32,  0, 20,  9]])"
      ]
     },
     "execution_count": 24,
     "metadata": {},
     "output_type": "execute_result"
    }
   ],
   "source": [
    "np.einsum(\"ij,ij->ij\", A, C)"
   ]
  },
  {
   "cell_type": "code",
   "execution_count": 30,
   "metadata": {},
   "outputs": [],
   "source": [
    "A = np.array([[[6, 2, 4, 7],\n",
    "        [0, 1, 9, 0],\n",
    "        [5, 2, 4, 0]],\n",
    "\n",
    "       [[7, 3, 0, 6],\n",
    "        [3, 3, 5, 0],\n",
    "        [9, 9, 5, 3]]])\n",
    "\n",
    "B = np.array([[[0, 1, 0, 4, 0],\n",
    "        [3, 3, 2, 3, 5],\n",
    "        [0, 4, 6, 9, 2],\n",
    "        [4, 5, 4, 7, 2]],\n",
    "\n",
    "       [[0, 8, 2, 5, 5],\n",
    "        [6, 6, 8, 4, 3],\n",
    "        [3, 0, 5, 2, 4],\n",
    "        [5, 8, 2, 8, 2]]])"
   ]
  },
  {
   "cell_type": "code",
   "execution_count": 32,
   "metadata": {},
   "outputs": [
    {
     "data": {
      "text/plain": [
       "array([[[ 34,  63,  56, 115,  32],\n",
       "        [  3,  39,  56,  84,  23],\n",
       "        [  6,  27,  28,  62,  18]],\n",
       "\n",
       "       [[ 48, 122,  50,  95,  56],\n",
       "        [ 33,  42,  55,  37,  44],\n",
       "        [ 84, 150, 121, 115,  98]]])"
      ]
     },
     "execution_count": 32,
     "metadata": {},
     "output_type": "execute_result"
    }
   ],
   "source": [
    "np.einsum(\"bij,bjk -> bik\", A, B)"
   ]
  },
  {
   "cell_type": "code",
   "execution_count": 38,
   "metadata": {},
   "outputs": [
    {
     "data": {
      "text/plain": [
       "(93, 93)"
      ]
     },
     "execution_count": 38,
     "metadata": {},
     "output_type": "execute_result"
    }
   ],
   "source": [
    "np.sum(A), np.einsum(\"bij-> \", A)"
   ]
  },
  {
   "cell_type": "code",
   "execution_count": 40,
   "metadata": {},
   "outputs": [
    {
     "data": {
      "text/plain": [
       "array([30, 20, 27, 16])"
      ]
     },
     "execution_count": 40,
     "metadata": {},
     "output_type": "execute_result"
    }
   ],
   "source": [
    "np.einsum(\"bij-> j\", A)"
   ]
  },
  {
   "cell_type": "code",
   "execution_count": 42,
   "metadata": {},
   "outputs": [
    {
     "data": {
      "text/plain": [
       "array([[[[5],\n",
       "         [4],\n",
       "         [1],\n",
       "         [8]],\n",
       "\n",
       "        [[5],\n",
       "         [8],\n",
       "         [1],\n",
       "         [4]],\n",
       "\n",
       "        [[0],\n",
       "         [9],\n",
       "         [5],\n",
       "         [6]],\n",
       "\n",
       "        [[7],\n",
       "         [0],\n",
       "         [1],\n",
       "         [6]]]])"
      ]
     },
     "execution_count": 42,
     "metadata": {},
     "output_type": "execute_result"
    }
   ],
   "source": [
    "np.random.randint(low=0, high=10, size=(1, 4, 4, 1))"
   ]
  },
  {
   "cell_type": "code",
   "execution_count": 43,
   "metadata": {},
   "outputs": [
    {
     "data": {
      "text/plain": [
       "array([[[[ 95],\n",
       "         [ 50]],\n",
       "\n",
       "        [[ 46],\n",
       "         [124]],\n",
       "\n",
       "        [[ 89],\n",
       "         [119]],\n",
       "\n",
       "        [[ 40],\n",
       "         [ 90]]]])"
      ]
     },
     "execution_count": 43,
     "metadata": {},
     "output_type": "execute_result"
    }
   ],
   "source": [
    "A = np.array([[[[4, 2],\n",
    "         [3, 2],\n",
    "         [7, 8],\n",
    "         [7, 3]],\n",
    "\n",
    "        [[0, 9],\n",
    "         [1, 6],\n",
    "         [6, 7],\n",
    "         [8, 6]],\n",
    "\n",
    "        [[7, 3],\n",
    "         [2, 8],\n",
    "         [7, 7],\n",
    "         [6, 2]],\n",
    "\n",
    "        [[2, 6],\n",
    "         [5, 7],\n",
    "         [8, 0],\n",
    "         [3, 8]]]])\n",
    "\n",
    "B = np.array([[[[5],\n",
    "         [4],\n",
    "         [1],\n",
    "         [8]],\n",
    "\n",
    "        [[5],\n",
    "         [8],\n",
    "         [1],\n",
    "         [4]],\n",
    "\n",
    "        [[0],\n",
    "         [9],\n",
    "         [5],\n",
    "         [6]],\n",
    "\n",
    "        [[7],\n",
    "         [0],\n",
    "         [1],\n",
    "         [6]]]])\n",
    "\n",
    "np.einsum(\"bcij,bcik->bcjk\", A, B)"
   ]
  },
  {
   "attachments": {},
   "cell_type": "markdown",
   "metadata": {},
   "source": [
    "## padding"
   ]
  },
  {
   "cell_type": "code",
   "execution_count": 6,
   "metadata": {},
   "outputs": [
    {
     "data": {
      "text/plain": [
       "<tf.Tensor: shape=(5, 8), dtype=int32, numpy=\n",
       "array([[8, 8, 8, 8, 8, 8, 8, 8],\n",
       "       [8, 8, 1, 2, 3, 8, 8, 8],\n",
       "       [8, 8, 7, 8, 9, 8, 8, 8],\n",
       "       [8, 8, 8, 8, 8, 8, 8, 8],\n",
       "       [8, 8, 8, 8, 8, 8, 8, 8]], dtype=int32)>"
      ]
     },
     "execution_count": 6,
     "metadata": {},
     "output_type": "execute_result"
    }
   ],
   "source": [
    "t = tf.constant([\n",
    "    [1,2,3],\n",
    "    [7,8,9]\n",
    "])\n",
    "paddings = tf.constant([[1,2], [2,3]])\n",
    "\n",
    "tf.pad(t, paddings, \"CONSTANT\", constant_values=8)"
   ]
  },
  {
   "cell_type": "markdown",
   "metadata": {},
   "source": [
    "## tf.ragged"
   ]
  },
  {
   "cell_type": "code",
   "execution_count": 4,
   "metadata": {},
   "outputs": [
    {
     "name": "stdout",
     "output_type": "stream",
     "text": [
      "(4, None)\n"
     ]
    },
    {
     "data": {
      "text/plain": [
       "<tf.RaggedTensor [[1, 2, 0], [3], [1, 5, 6], [2, 3]]>"
      ]
     },
     "execution_count": 4,
     "metadata": {},
     "output_type": "execute_result"
    }
   ],
   "source": [
    "tensor_two_d = [[1, 2, 0],\n",
    "                [3,],\n",
    "                [1,5,6],\n",
    "                [2,3]]\n",
    "\n",
    "tensor_ragged = tf.ragged.constant(tensor_two_d)\n",
    "print(tensor_ragged.shape)\n",
    "tensor_ragged"
   ]
  },
  {
   "cell_type": "code",
   "execution_count": 6,
   "metadata": {},
   "outputs": [
    {
     "data": {
      "text/plain": [
       "<tf.RaggedTensor [[1, 0], [], [1, 5], [2]]>"
      ]
     },
     "execution_count": 6,
     "metadata": {},
     "output_type": "execute_result"
    }
   ],
   "source": [
    "tf.ragged.boolean_mask(\n",
    "    tf.ragged.constant([\n",
    "        [1, 2, 0],\n",
    "        [3],\n",
    "        [1,5,6],\n",
    "        [2,3]\n",
    "    ]),\n",
    "    tf.ragged.constant([\n",
    "        [True, False, True],\n",
    "        [False],\n",
    "        [True, True, False],\n",
    "        [True, False]\n",
    "    ])\n",
    ")"
   ]
  },
  {
   "cell_type": "code",
   "execution_count": 7,
   "metadata": {},
   "outputs": [
    {
     "name": "stdout",
     "output_type": "stream",
     "text": [
      "<tf.RaggedTensor [[3, 1, 4, 1], [], [5, 9, 2], [6], []]>\n"
     ]
    }
   ],
   "source": [
    "print(tf.RaggedTensor.from_row_lengths(\n",
    "    values=[3, 1, 4, 1, 5, 9, 2, 6],\n",
    "    row_lengths=[4, 0, 3, 1, 0]\n",
    "))"
   ]
  },
  {
   "cell_type": "markdown",
   "metadata": {},
   "source": [
    "## sparse"
   ]
  },
  {
   "cell_type": "code",
   "execution_count": 3,
   "metadata": {},
   "outputs": [
    {
     "data": {
      "text/plain": [
       "SparseTensor(indices=tf.Tensor(\n",
       "[[1 1]\n",
       " [4 4]], shape=(2, 2), dtype=int64), values=tf.Tensor([1 2], shape=(2,), dtype=int32), dense_shape=tf.Tensor([5 5], shape=(2,), dtype=int64))"
      ]
     },
     "execution_count": 3,
     "metadata": {},
     "output_type": "execute_result"
    }
   ],
   "source": [
    "tensor_sparse = tf.sparse.SparseTensor(\n",
    "    indices=[[1,1], [4,4]], values=[1,2], dense_shape=[5,5]\n",
    ")\n",
    "tensor_sparse"
   ]
  },
  {
   "cell_type": "code",
   "execution_count": 5,
   "metadata": {},
   "outputs": [
    {
     "data": {
      "text/plain": [
       "<tf.Tensor: shape=(5, 5), dtype=int32, numpy=\n",
       "array([[0, 0, 0, 0, 0],\n",
       "       [0, 1, 0, 0, 0],\n",
       "       [0, 0, 0, 0, 0],\n",
       "       [0, 0, 0, 0, 0],\n",
       "       [0, 0, 0, 0, 2]], dtype=int32)>"
      ]
     },
     "execution_count": 5,
     "metadata": {},
     "output_type": "execute_result"
    }
   ],
   "source": [
    "tf.sparse.to_dense(tensor_sparse)"
   ]
  },
  {
   "cell_type": "markdown",
   "metadata": {},
   "source": [
    "# variables"
   ]
  },
  {
   "cell_type": "code",
   "execution_count": 7,
   "metadata": {},
   "outputs": [],
   "source": [
    "with tf.device(\"GPU:0\"):\n",
    "    x_var = tf.Variable(0.2)"
   ]
  },
  {
   "cell_type": "code",
   "execution_count": 10,
   "metadata": {},
   "outputs": [
    {
     "name": "stdout",
     "output_type": "stream",
     "text": [
      "/job:localhost/replica:0/task:0/device:CPU:0\n"
     ]
    }
   ],
   "source": [
    "with tf.device(\"CPU:0\"):\n",
    "    x_var = tf.Variable(0.2)\n",
    "\n",
    "print(x_var.device)"
   ]
  }
 ],
 "metadata": {
  "kernelspec": {
   "display_name": "base",
   "language": "python",
   "name": "python3"
  },
  "language_info": {
   "codemirror_mode": {
    "name": "ipython",
    "version": 3
   },
   "file_extension": ".py",
   "mimetype": "text/x-python",
   "name": "python",
   "nbconvert_exporter": "python",
   "pygments_lexer": "ipython3",
   "version": "3.10.9"
  },
  "orig_nbformat": 4
 },
 "nbformat": 4,
 "nbformat_minor": 2
}
